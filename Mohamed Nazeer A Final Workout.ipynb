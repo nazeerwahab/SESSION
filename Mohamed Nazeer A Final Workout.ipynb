{
  "nbformat": 4,
  "nbformat_minor": 0,
  "metadata": {
    "colab": {
      "name": "Untitled1.ipynb",
      "provenance": []
    },
    "kernelspec": {
      "name": "python3",
      "display_name": "Python 3"
    },
    "language_info": {
      "name": "python"
    }
  },
  "cells": [
    {
      "cell_type": "markdown",
      "metadata": {
        "id": "NK3r-Kk23deT"
      },
      "source": [
        "MOHAMED NAZEER A\n",
        "\n",
        "IV YEAR CSE\n",
        "\n",
        "Mohamed Sathak A.J. College of Engineering"
      ]
    },
    {
      "cell_type": "markdown",
      "metadata": {
        "id": "DUrS7mRc04lL"
      },
      "source": [
        "**What is Machine learning ?**\n",
        "\n",
        "Machine learning is a method of data analysis that automates analytical model building. It is a branch of artificial intelligence based on the idea that systems can learn from data, identify patterns and make decisions with minimal human intervention.\n",
        "\n",
        "**What is Supervised learning ?**\n",
        "\n",
        "i) Supervised learning (SL) is the machine learning task of learning a function that maps an input to an output based on example input-output pairs.It infers a function from labeled training data consisting of a set of training examples.\n",
        "\n",
        "ii) In supervised learning, each example is a pair consisting of an input object (typically a vector) and a desired output value (also called the supervisory signal). \n",
        "\n",
        "iii) A supervised learning algorithm analyzes the training data and produces an inferred function, which can be used for mapping new examples. An optimal scenario will allow for the algorithm to correctly determine the class labels for unseen instances. This requires the learning algorithm to generalize from the training data to unseen situations in a \"reasonable\" way (see inductive bias). This statistical quality of an algorithm is measured through the so-called generalization error.\n",
        "\n",
        "**What is Unupervised learning ?**\n",
        "\n",
        "i) Unsupervised learning (UL) is a type of algorithm that learns patterns from untagged data. The hope is that, through mimicry, the machine is forced to build a compact internal representation of its world and then generate imaginative content.\n",
        "\n",
        "ii) In contrast to supervised learning (SL) where data is tagged by a human, e.g. as \"car\" or \"fish\" etc, UL exhibits self-organization that captures patterns as neuronal predilections or probability densities.\n",
        "\n",
        "iii) The other levels in the supervision spectrum are reinforcement learning where the machine is given only a numerical performance score as its guidance, and semi-supervised learning where a smaller portion of the data is tagged. Two broad methods in UL are Neural Networks and Probabilistic Methods.\n",
        "\n",
        "**What is Reinforcement Learning ?**\n",
        "\n",
        "Reinforcement learning (RL) is an area of machine learning concerned with how intelligent agents ought to take actions in an environment in order to maximize the notion of cumulative reward. Reinforcement learning is one of three basic machine learning paradigms, alongside supervised learning and unsupervised learning.\n",
        "**What is Neural network ?**\n",
        "A neural network is a series of algorithms that endeavors to recognize underlying relationships in a set of data through a process that mimics the way the human brain operates. In this sense, neural networks refer to systems of neurons, either organic or artificial in nature.\n"
      ]
    },
    {
      "cell_type": "code",
      "metadata": {
        "colab": {
          "base_uri": "https://localhost:8080/",
          "height": 359
        },
        "id": "0lnGfZgy3QYU",
        "outputId": "7cd4d18c-e6c7-439d-b786-bf67e3643dca"
      },
      "source": [
        "import pandas as pd\n",
        "import numpy as np\n",
        "\n",
        "df = pd.DataFrame([[181,80,44],[177,90,43],[198,70,54],[182,79,43],[199,69,32],[175,75,43],[200,88,50],[188,52,10],[195,99,52],[185,59,32]], \n",
        "                  columns=[['Height', 'Weight', 'Shoe_size']])\n",
        "df['Gender'] = np.array(('male','female','female','male','female','male','male','female','male','female'))\n",
        "df"
      ],
      "execution_count": 1,
      "outputs": [
        {
          "output_type": "execute_result",
          "data": {
            "text/html": [
              "<div>\n",
              "<style scoped>\n",
              "    .dataframe tbody tr th:only-of-type {\n",
              "        vertical-align: middle;\n",
              "    }\n",
              "\n",
              "    .dataframe tbody tr th {\n",
              "        vertical-align: top;\n",
              "    }\n",
              "\n",
              "    .dataframe thead tr th {\n",
              "        text-align: left;\n",
              "    }\n",
              "</style>\n",
              "<table border=\"1\" class=\"dataframe\">\n",
              "  <thead>\n",
              "    <tr>\n",
              "      <th></th>\n",
              "      <th>Height</th>\n",
              "      <th>Weight</th>\n",
              "      <th>Shoe_size</th>\n",
              "      <th>Gender</th>\n",
              "    </tr>\n",
              "  </thead>\n",
              "  <tbody>\n",
              "    <tr>\n",
              "      <th>0</th>\n",
              "      <td>181</td>\n",
              "      <td>80</td>\n",
              "      <td>44</td>\n",
              "      <td>male</td>\n",
              "    </tr>\n",
              "    <tr>\n",
              "      <th>1</th>\n",
              "      <td>177</td>\n",
              "      <td>90</td>\n",
              "      <td>43</td>\n",
              "      <td>female</td>\n",
              "    </tr>\n",
              "    <tr>\n",
              "      <th>2</th>\n",
              "      <td>198</td>\n",
              "      <td>70</td>\n",
              "      <td>54</td>\n",
              "      <td>female</td>\n",
              "    </tr>\n",
              "    <tr>\n",
              "      <th>3</th>\n",
              "      <td>182</td>\n",
              "      <td>79</td>\n",
              "      <td>43</td>\n",
              "      <td>male</td>\n",
              "    </tr>\n",
              "    <tr>\n",
              "      <th>4</th>\n",
              "      <td>199</td>\n",
              "      <td>69</td>\n",
              "      <td>32</td>\n",
              "      <td>female</td>\n",
              "    </tr>\n",
              "    <tr>\n",
              "      <th>5</th>\n",
              "      <td>175</td>\n",
              "      <td>75</td>\n",
              "      <td>43</td>\n",
              "      <td>male</td>\n",
              "    </tr>\n",
              "    <tr>\n",
              "      <th>6</th>\n",
              "      <td>200</td>\n",
              "      <td>88</td>\n",
              "      <td>50</td>\n",
              "      <td>male</td>\n",
              "    </tr>\n",
              "    <tr>\n",
              "      <th>7</th>\n",
              "      <td>188</td>\n",
              "      <td>52</td>\n",
              "      <td>10</td>\n",
              "      <td>female</td>\n",
              "    </tr>\n",
              "    <tr>\n",
              "      <th>8</th>\n",
              "      <td>195</td>\n",
              "      <td>99</td>\n",
              "      <td>52</td>\n",
              "      <td>male</td>\n",
              "    </tr>\n",
              "    <tr>\n",
              "      <th>9</th>\n",
              "      <td>185</td>\n",
              "      <td>59</td>\n",
              "      <td>32</td>\n",
              "      <td>female</td>\n",
              "    </tr>\n",
              "  </tbody>\n",
              "</table>\n",
              "</div>"
            ],
            "text/plain": [
              "  Height Weight Shoe_size  Gender\n",
              "0    181     80        44    male\n",
              "1    177     90        43  female\n",
              "2    198     70        54  female\n",
              "3    182     79        43    male\n",
              "4    199     69        32  female\n",
              "5    175     75        43    male\n",
              "6    200     88        50    male\n",
              "7    188     52        10  female\n",
              "8    195     99        52    male\n",
              "9    185     59        32  female"
            ]
          },
          "metadata": {
            "tags": []
          },
          "execution_count": 1
        }
      ]
    },
    {
      "cell_type": "code",
      "metadata": {
        "colab": {
          "base_uri": "https://localhost:8080/",
          "height": 319
        },
        "id": "3__m5Mai3tvT",
        "outputId": "6d954194-bbf6-442a-d2c2-d3b63428875f"
      },
      "source": [
        "import matplotlib.pyplot as plt\n",
        "import seaborn as sns\n",
        "from sklearn.datasets.samples_generator import make_blobs\n",
        "X, y_true = make_blobs(n_samples=300, centers=5,\n",
        "                       cluster_std=0.60, random_state=0)\n",
        "plt.scatter(X[:, 0], X[:, 1], s=50);"
      ],
      "execution_count": 2,
      "outputs": [
        {
          "output_type": "stream",
          "text": [
            "/usr/local/lib/python3.7/dist-packages/sklearn/utils/deprecation.py:144: FutureWarning: The sklearn.datasets.samples_generator module is  deprecated in version 0.22 and will be removed in version 0.24. The corresponding classes / functions should instead be imported from sklearn.datasets. Anything that cannot be imported from sklearn.datasets is now part of the private API.\n",
            "  warnings.warn(message, FutureWarning)\n"
          ],
          "name": "stderr"
        },
        {
          "output_type": "display_data",
          "data": {
            "image/png": "[encoded data removed]",
            "text/plain": [
              "<Figure size 432x288 with 1 Axes>"
            ]
          },
          "metadata": {
            "tags": [],
            "needs_background": "light"
          }
        }
      ]
    },
    {
      "cell_type": "code",
      "metadata": {
        "colab": {
          "base_uri": "https://localhost:8080/"
        },
        "id": "5eE4nito3yB7",
        "outputId": "7e862035-39e8-41ee-c1b4-1cafcf7314f8"
      },
      "source": [
        "import numpy as np\n",
        "\n",
        "# sigmoid function to normalize inputs\n",
        "def sigmoid(x):\n",
        "    return 1 / (1 + np.exp(-x))\n",
        "\n",
        "# sigmoid derivatives to adjust synaptic weights\n",
        "def sigmoid_derivative(x):\n",
        "    return x * (1 - x)\n",
        "\n",
        "# input dataset\n",
        "training_inputs = np.array([[0,0,1],\n",
        "                            [1,1,1],\n",
        "                            [1,0,1],\n",
        "                            [0,1,1]])\n",
        "\n",
        "# output dataset\n",
        "training_outputs = np.array([[0,1,1,0]]).T\n",
        "\n",
        "# seed random numbers to make calculation\n",
        "np.random.seed(1)\n",
        "\n",
        "# initialize weights randomly with mean 0 to create weight matrix, synaptic weights\n",
        "synaptic_weights = 2 * np.random.random((3,1)) - 1\n",
        "\n",
        "print('Random starting synaptic weights: ')\n",
        "print(synaptic_weights)\n",
        "\n",
        "# Iterate 10,000 times\n",
        "for iteration in range(10000):\n",
        "\n",
        "    # Define input layer\n",
        "    input_layer = training_inputs\n",
        "    # Normalize the product of the input layer with the synaptic weights\n",
        "    outputs = sigmoid(np.dot(input_layer, synaptic_weights))\n",
        "\n",
        "    # how much did we miss?\n",
        "    error = training_outputs - outputs\n",
        "\n",
        "    # multiply how much we missed by the\n",
        "    # slope of the sigmoid at the values in outputs\n",
        "    adjustments = error * sigmoid_derivative(outputs)\n",
        "\n",
        "    # update weights\n",
        "    synaptic_weights += np.dot(input_layer.T, adjustments)\n",
        "\n",
        "print('Synaptic weights after training: ')\n",
        "print(synaptic_weights)\n",
        "\n",
        "print(\"Output After Training:\")\n",
        "print(outputs)"
      ],
      "execution_count": 4,
      "outputs": [
        {
          "output_type": "stream",
          "text": [
            "Random starting synaptic weights: \n",
            "[[-0.16595599]\n",
            " [ 0.44064899]\n",
            " [-0.99977125]]\n",
            "Synaptic weights after training: \n",
            "[[ 9.67299303]\n",
            " [-0.2078435 ]\n",
            " [-4.62963669]]\n",
            "Output After Training:\n",
            "[[0.00966449]\n",
            " [0.99211957]\n",
            " [0.99358898]\n",
            " [0.00786506]]\n"
          ],
          "name": "stdout"
        }
      ]
    }
  ]
}